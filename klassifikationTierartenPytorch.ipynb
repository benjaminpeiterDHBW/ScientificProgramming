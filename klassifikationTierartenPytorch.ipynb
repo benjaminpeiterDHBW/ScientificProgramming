{
  "cells": [
    {
      "cell_type": "markdown",
      "id": "d417abd4",
      "metadata": {
        "id": "d417abd4"
      },
      "source": [
        "## Imports"
      ]
    },
    {
      "cell_type": "code",
      "execution_count": 1,
      "id": "095ade79",
      "metadata": {
        "id": "095ade79"
      },
      "outputs": [],
      "source": [
        "import os\n",
        "import torch\n",
        "import torchvision\n",
        "import numpy as np\n",
        "import matplotlib.pyplot as plt\n",
        "from torchvision import transforms, datasets\n",
        "from torch.utils.data import DataLoader\n",
        "import torch.nn as nn\n",
        "import torch.nn.functional as F\n",
        "import torch.optim as optim\n",
        "from tqdm import tqdm"
      ]
    },
    {
      "cell_type": "markdown",
      "id": "492cd10b",
      "metadata": {
        "id": "492cd10b"
      },
      "source": [
        "## Daten Import and Vorbereitung"
      ]
    },
    {
      "cell_type": "code",
      "execution_count": 2,
      "id": "d4f681d9",
      "metadata": {
        "colab": {
          "base_uri": "https://localhost:8080/"
        },
        "id": "d4f681d9",
        "outputId": "24691784-2f6b-4b0d-f7e7-a83cc812f49b"
      },
      "outputs": [
        {
          "output_type": "stream",
          "name": "stdout",
          "text": [
            "Downloading from https://www.kaggle.com/api/v1/datasets/download/antobenedetti/animals?dataset_version_number=5...\n"
          ]
        },
        {
          "output_type": "stream",
          "name": "stderr",
          "text": [
            "100%|██████████| 882M/882M [00:24<00:00, 37.0MB/s]"
          ]
        },
        {
          "output_type": "stream",
          "name": "stdout",
          "text": [
            "Extracting files...\n"
          ]
        },
        {
          "output_type": "stream",
          "name": "stderr",
          "text": [
            "\n"
          ]
        },
        {
          "output_type": "stream",
          "name": "stdout",
          "text": [
            "Path to dataset files: /kaggle/input/animal-faces\n",
            "Path to dataset 2 files: /root/.cache/kagglehub/datasets/antobenedetti/animals/versions/5\n",
            "Classes: ['cat', 'dog', 'elephant', 'horse', 'lion']\n"
          ]
        }
      ],
      "source": [
        "import kagglehub\n",
        "\n",
        "# Download latest version\n",
        "path = kagglehub.dataset_download(\"andrewmvd/animal-faces\")\n",
        "path2 = kagglehub.dataset_download(\"antobenedetti/animals\")\n",
        "\n",
        "print(\"Path to dataset files:\", path)\n",
        "print(\"Path to dataset 2 files:\", path2)\n",
        "\n",
        "transform = transforms.Compose([\n",
        "    transforms.Resize((128, 128)),\n",
        "    transforms.ToTensor(),\n",
        "    transforms.Normalize([0.5]*3, [0.5]*3)\n",
        "])\n",
        "\n",
        "train_dataset = datasets.ImageFolder(os.path.join(path2, 'animals/train'), transform=transform)\n",
        "val_dataset = datasets.ImageFolder(os.path.join(path2, 'animals/val'), transform=transform)\n",
        "\n",
        "train_loader = DataLoader(train_dataset, batch_size=32, shuffle=True)\n",
        "val_loader = DataLoader(val_dataset, batch_size=32)\n",
        "\n",
        "classes = train_dataset.classes\n",
        "print(f\"Classes: {classes}\")"
      ]
    },
    {
      "cell_type": "markdown",
      "id": "b51bc492",
      "metadata": {
        "id": "b51bc492"
      },
      "source": [
        "## CNN Modell"
      ]
    },
    {
      "cell_type": "code",
      "execution_count": 3,
      "id": "504a3d16",
      "metadata": {
        "id": "504a3d16"
      },
      "outputs": [],
      "source": [
        "class AnimalCNN(nn.Module):\n",
        "    def __init__(self, num_classes):\n",
        "        super(AnimalCNN, self).__init__()\n",
        "        self.conv_layers = nn.Sequential(\n",
        "            nn.Conv2d(3, 16, kernel_size=3, padding=1),\n",
        "            nn.ReLU(),\n",
        "            nn.MaxPool2d(2),\n",
        "\n",
        "            nn.Conv2d(16, 32, kernel_size=3, padding=1),\n",
        "            nn.ReLU(),\n",
        "            nn.MaxPool2d(2),\n",
        "\n",
        "            nn.Conv2d(32, 64, kernel_size=3, padding=1),\n",
        "            nn.ReLU(),\n",
        "            nn.MaxPool2d(2)\n",
        "        )\n",
        "        self.fc_layers = nn.Sequential(\n",
        "            nn.Flatten(),\n",
        "            nn.Linear(64 * 8 * 8 * 4, 128),\n",
        "            nn.ReLU(),\n",
        "            nn.Linear(128, num_classes)\n",
        "        )\n",
        "\n",
        "    def forward(self, x):\n",
        "        x = self.conv_layers(x)\n",
        "        x = self.fc_layers(x)\n",
        "        return x"
      ]
    },
    {
      "cell_type": "markdown",
      "id": "a5260675",
      "metadata": {
        "id": "a5260675"
      },
      "source": [
        "## Training"
      ]
    },
    {
      "cell_type": "code",
      "execution_count": 4,
      "id": "fa0e778d",
      "metadata": {
        "colab": {
          "base_uri": "https://localhost:8080/"
        },
        "id": "fa0e778d",
        "outputId": "6ae9e6ec-6997-4b97-b918-dd8e8611d8c3"
      },
      "outputs": [
        {
          "output_type": "stream",
          "name": "stdout",
          "text": [
            "device: cuda\n"
          ]
        }
      ],
      "source": [
        "device2 = torch.device(\"cuda\" if torch.cuda.is_available() else \"cpu\")\n",
        "device = torch.device(\"mps\" if torch.backends.mps.is_available() else device2)\n",
        "model = AnimalCNN(num_classes=len(classes)).to(device)\n",
        "\n",
        "print(\"device:\", device)\n",
        "\n",
        "criterion = nn.CrossEntropyLoss()\n",
        "optimizer = optim.Adam(model.parameters(), lr=0.001)"
      ]
    },
    {
      "cell_type": "code",
      "execution_count": 5,
      "id": "b0c3478e",
      "metadata": {
        "colab": {
          "base_uri": "https://localhost:8080/"
        },
        "id": "b0c3478e",
        "outputId": "993ac483-7135-4267-9615-b913369d4615"
      },
      "outputs": [
        {
          "output_type": "stream",
          "name": "stderr",
          "text": [
            "Epoch 1/10: 100%|██████████| 422/422 [00:59<00:00,  7.03it/s, loss=0.162]\n"
          ]
        },
        {
          "output_type": "stream",
          "name": "stdout",
          "text": [
            "Epoch 1 Average Loss: 0.9021\n"
          ]
        },
        {
          "output_type": "stream",
          "name": "stderr",
          "text": [
            "Epoch 2/10: 100%|██████████| 422/422 [00:59<00:00,  7.08it/s, loss=0.926]\n"
          ]
        },
        {
          "output_type": "stream",
          "name": "stdout",
          "text": [
            "Epoch 2 Average Loss: 0.5115\n"
          ]
        },
        {
          "output_type": "stream",
          "name": "stderr",
          "text": [
            "Epoch 3/10: 100%|██████████| 422/422 [01:01<00:00,  6.90it/s, loss=0.0127]\n"
          ]
        },
        {
          "output_type": "stream",
          "name": "stdout",
          "text": [
            "Epoch 3 Average Loss: 0.3813\n"
          ]
        },
        {
          "output_type": "stream",
          "name": "stderr",
          "text": [
            "Epoch 4/10: 100%|██████████| 422/422 [01:00<00:00,  6.95it/s, loss=0.119]\n"
          ]
        },
        {
          "output_type": "stream",
          "name": "stdout",
          "text": [
            "Epoch 4 Average Loss: 0.2807\n"
          ]
        },
        {
          "output_type": "stream",
          "name": "stderr",
          "text": [
            "Epoch 5/10: 100%|██████████| 422/422 [00:56<00:00,  7.44it/s, loss=0.000934]\n"
          ]
        },
        {
          "output_type": "stream",
          "name": "stdout",
          "text": [
            "Epoch 5 Average Loss: 0.1887\n"
          ]
        },
        {
          "output_type": "stream",
          "name": "stderr",
          "text": [
            "Epoch 6/10: 100%|██████████| 422/422 [00:57<00:00,  7.36it/s, loss=0.0914]\n"
          ]
        },
        {
          "output_type": "stream",
          "name": "stdout",
          "text": [
            "Epoch 6 Average Loss: 0.1214\n"
          ]
        },
        {
          "output_type": "stream",
          "name": "stderr",
          "text": [
            "Epoch 7/10: 100%|██████████| 422/422 [00:56<00:00,  7.47it/s, loss=1.14]\n"
          ]
        },
        {
          "output_type": "stream",
          "name": "stdout",
          "text": [
            "Epoch 7 Average Loss: 0.0748\n"
          ]
        },
        {
          "output_type": "stream",
          "name": "stderr",
          "text": [
            "Epoch 8/10: 100%|██████████| 422/422 [00:56<00:00,  7.41it/s, loss=0.000862]\n"
          ]
        },
        {
          "output_type": "stream",
          "name": "stdout",
          "text": [
            "Epoch 8 Average Loss: 0.0674\n"
          ]
        },
        {
          "output_type": "stream",
          "name": "stderr",
          "text": [
            "Epoch 9/10: 100%|██████████| 422/422 [00:59<00:00,  7.07it/s, loss=2.85e-5]\n"
          ]
        },
        {
          "output_type": "stream",
          "name": "stdout",
          "text": [
            "Epoch 9 Average Loss: 0.0306\n"
          ]
        },
        {
          "output_type": "stream",
          "name": "stderr",
          "text": [
            "Epoch 10/10: 100%|██████████| 422/422 [00:59<00:00,  7.08it/s, loss=7.94e-5]"
          ]
        },
        {
          "output_type": "stream",
          "name": "stdout",
          "text": [
            "Epoch 10 Average Loss: 0.0301\n"
          ]
        },
        {
          "output_type": "stream",
          "name": "stderr",
          "text": [
            "\n"
          ]
        }
      ],
      "source": [
        "epochs = 10\n",
        "train_losses = []\n",
        "\n",
        "for epoch in range(epochs):\n",
        "    model.train()\n",
        "    running_loss = 0.0\n",
        "    progress_bar = tqdm(train_loader, desc=f\"Epoch {epoch+1}/{epochs}\")\n",
        "\n",
        "    for images, labels in progress_bar:\n",
        "        images, labels = images.to(device), labels.to(device)\n",
        "\n",
        "        optimizer.zero_grad()\n",
        "        outputs = model(images)\n",
        "        loss = criterion(outputs, labels)\n",
        "        loss.backward()\n",
        "        optimizer.step()\n",
        "\n",
        "        running_loss += loss.item()\n",
        "        progress_bar.set_postfix(loss=loss.item())\n",
        "\n",
        "    avg_loss = running_loss / len(train_loader)\n",
        "    train_losses.append(avg_loss)\n",
        "    print(f\"Epoch {epoch+1} Average Loss: {avg_loss:.4f}\")\n"
      ]
    },
    {
      "cell_type": "markdown",
      "id": "58a1e5f1",
      "metadata": {
        "id": "58a1e5f1"
      },
      "source": [
        "### Training Loss"
      ]
    },
    {
      "cell_type": "code",
      "execution_count": 6,
      "id": "c4c508bf",
      "metadata": {
        "colab": {
          "base_uri": "https://localhost:8080/",
          "height": 487
        },
        "id": "c4c508bf",
        "outputId": "5ae43526-c79e-46c0-9506-e088c4ddd28f"
      },
      "outputs": [
        {
          "output_type": "display_data",
          "data": {
            "text/plain": [
              "<Figure size 800x500 with 1 Axes>"
            ],
            "image/png": "[encoded data removed]"
          },
          "metadata": {}
        }
      ],
      "source": [
        "plt.figure(figsize=(8, 5))\n",
        "plt.plot(train_losses, marker='o', label='Training Loss')\n",
        "plt.title(\"Training Loss over Epochs\")\n",
        "plt.xlabel(\"Epoch\")\n",
        "plt.ylabel(\"Loss\")\n",
        "plt.legend()\n",
        "plt.grid(True)\n",
        "plt.show()"
      ]
    },
    {
      "cell_type": "markdown",
      "source": [
        "## 1 Visualisierung des Trainingsverlusts\n",
        "\n",
        "Der folgende Code erstellt ein Diagramm, das den Verlauf des Trainingsverlusts (`Loss`) über alle Epochen hinweg zeigt. Jeder Punkt steht dabei für den durchschnittlichen Verlust pro Epoche.\n",
        "```python\n",
        "# Neues Plot-Fenster mit einer definierten Größe\n",
        "plt.figure(figsize=(8, 5))\n",
        "\n",
        "# Wir plotten die gespeicherten Trainingsverluste.\n",
        "# Die Marker \"o\" heben die einzelnen Punkte in der Linie hervor.\n",
        "plt.plot(train_losses, marker='o', label='Training Loss')\n",
        "\n",
        "# Titel für das Diagramm\n",
        "plt.title(\"Training Loss over Epochs\")\n",
        "\n",
        "# Beschriftung der X- und Y-Achsen\n",
        "plt.xlabel(\"Epoch\")\n",
        "plt.ylabel(\"Loss\")\n",
        "\n",
        "# Anzeige der Legende (in diesem Fall: \"Training Loss\")\n",
        "plt.legend()\n",
        "\n",
        "# Ein Gitter erleichtert das Ablesen des Plots\n",
        "plt.grid(True)\n",
        "\n",
        "# Zeige das Diagramm an\n",
        "plt.show()\n",
        "```\n",
        "# Erklärung des Diagrammverlaufs\n",
        "\n",
        "Das gezeigte Diagramm stellt den Trainingsverlust dar, der während des Trainings berechnet wird.\n",
        "\n",
        "Zu Beginn des Trainings ist der Loss-Wert in der Regel sehr hoch, da das Modell noch keine sinnvollen Vorhersagen treffen kann.  \n",
        "In den ersten Epochen sinkt der Verlust schnell, weil das Modell grundlegende Muster wie Kanten oder Farben in den Bildern lernt.  \n",
        "In höheren Epochen verlangsamt sich der Abfall des Loss-Werts immer mehr, da das Netz die grundlegenden Muster bereits erlernt hat und nur durch höhere Komplexität weitere Verbesserungen erreicht werden können.\n",
        "\n",
        "Gegen Ende erreicht der Loss einen stabilen Wert, was auf eine Konvergenz des Trainings hinweist.  \n",
        "Diese typische Kurve (starker Abfall am Anfang, langsamer Abfall später, Plateau am Ende) ist ein Zeichen dafür, dass das Modell effektiv lernt und sich an die Trainingsdaten anpasst."
      ],
      "metadata": {
        "id": "pHvk3MQqV-Xg"
      },
      "id": "pHvk3MQqV-Xg"
    },
    {
      "cell_type": "markdown",
      "id": "80a23c2e",
      "metadata": {
        "id": "80a23c2e"
      },
      "source": [
        "### Evaluation"
      ]
    },
    {
      "cell_type": "code",
      "execution_count": 7,
      "id": "b12f901a",
      "metadata": {
        "colab": {
          "base_uri": "https://localhost:8080/"
        },
        "id": "b12f901a",
        "outputId": "b998e020-2fb0-45c3-e7fa-696a68efcb72"
      },
      "outputs": [
        {
          "output_type": "stream",
          "name": "stdout",
          "text": [
            "Test Accuracy: 84.10%\n"
          ]
        }
      ],
      "source": [
        "model.eval()\n",
        "correct = 0\n",
        "total = 0\n",
        "with torch.no_grad():\n",
        "    for inputs, labels in val_loader:\n",
        "        inputs, labels = inputs.to(device), labels.to(device)\n",
        "        outputs = model(inputs)\n",
        "        _, preds = torch.max(outputs, 1)\n",
        "        total += labels.size(0)\n",
        "        correct += (preds == labels).sum().item()\n",
        "\n",
        "print(f\"Test Accuracy: {100 * correct / total:.2f}%\")"
      ]
    },
    {
      "cell_type": "markdown",
      "source": [
        "# Erklärung der Evaluierung\n",
        "\n",
        "Bei der Modell-Evaluierung wird die Leistung des trainierten Modells auf neuen, ungesehenen Daten überprüft.  \n",
        "Dazu wird der sogenannte Validierungsdatensatz genutzt, der während des Trainings nicht betrachtet wurde. Dies stellt sicher, dass das Modell nicht nur auf die Trainingsdaten passt, sondern auch auf andere Bilder gut funktioniert.\n",
        "\n",
        "Zunächst wird das Modell in den Evaluierungsmodus versetzt. In diesem Modus sind Schichten wie Dropout deaktiviert und Batch-Normalisierung verwendet gespeicherte Mittelwerte und Varianzen, statt sie neu aus den aktuellen Eingaben zu berechnen. Dadurch wird ein konsistentes Verhalten des Modells während der Auswertung sichergestellt.\n",
        "\n",
        "Im nächsten Schritt wird die Berechnung von Gradienten ausgeschaltet. Das spart Speicher und beschleunigt die Ausführung, da beim Testen keine Gewichtsaktualisierungen notwendig sind.\n",
        "\n",
        "Für jedes Bildpaar im Validierungsdatensatz werden dann folgende Schritte durchgeführt:  \n",
        "- Die Eingabebilder und die zugehörigen Labels werden auf das passende Gerät geladen (CPU, GPU oder MPS).  \n",
        "- Das Modell berechnet Vorhersagen (Wahrscheinlichkeiten für alle Klassen).  \n",
        "- Die Klasse mit der höchsten Wahrscheinlichkeit wird als Vorhersage gewählt.  \n",
        "- Diese Vorhersage wird mit dem tatsächlichen Label verglichen. Wenn die Vorhersage korrekt ist, wird ein Zähler für richtige Ergebnisse erhöht.\n",
        "\n",
        "Am Ende der Schleife wird die Gesamtzahl der korrekten Vorhersagen durch die Gesamtzahl der Bilder geteilt und mit 100 multipliziert. Das Ergebnis ist die Genauigkeit in Prozent.  \n",
        "\n",
        "Diese Genauigkeit ist eine wichtige Kennzahl:  \n",
        " - Sie zeigt, wie gut das Modell verallgemeinert und nicht nur die Trainingsdaten „auswendig gelernt“ hat.  \n",
        " - Eine hohe Genauigkeit deutet darauf hin, dass das Modell die zugrunde liegenden Muster der Bilder erkannt hat und erfolgreich neue Bilder klassifizieren kann."
      ],
      "metadata": {
        "id": "ibF2Zz26YoD5"
      },
      "id": "ibF2Zz26YoD5"
    },
    {
      "cell_type": "markdown",
      "source": [
        "## Klassifizierung eines Bildes"
      ],
      "metadata": {
        "id": "K3m22Cl9qoV4"
      },
      "id": "K3m22Cl9qoV4"
    },
    {
      "cell_type": "code",
      "source": [
        "from PIL import Image\n",
        "import torchvision.transforms as transforms\n",
        "\n",
        "def classify_image(image, model, class_names, device):\n",
        "    # Transform must match training preprocessing\n",
        "    transform = transforms.Compose([\n",
        "        transforms.Resize((128, 128)),\n",
        "        transforms.ToTensor(),\n",
        "        transforms.Normalize([0.5]*3, [0.5]*3)\n",
        "    ])\n",
        "\n",
        "    # Load and preprocess image\n",
        "\n",
        "    image = transform(image).unsqueeze(0).to(device)  # add batch dimension\n",
        "\n",
        "    model.eval()\n",
        "    with torch.no_grad():\n",
        "        output = model(image)\n",
        "        _, predicted = torch.max(output, 1)\n",
        "\n",
        "    return class_names[predicted.item()]"
      ],
      "metadata": {
        "id": "x8nhUdF-quRq"
      },
      "id": "x8nhUdF-quRq",
      "execution_count": 8,
      "outputs": []
    },
    {
      "cell_type": "markdown",
      "source": [
        "# Erklärung der Einzelbildklassifikation (Inference)\n",
        "\n",
        "Nachdem das Modell trainiert und evaluiert wurde, kann es verwendet werden, um neue, einzelne Bilder zu klassifizieren.  \n",
        "Dafür wird eine spezielle Funktion definiert, die ein Bild als Eingabe nimmt und eine Vorhersage zurückgibt.\n",
        "\n",
        "Zuerst muss das Eingabebild vorverarbeitet werden, um es in das Format zu bringen, das das Modell erwartet:  \n",
        "- Die Bildgröße wird auf die während des Trainings genutzte Größe (z.B. 128x128 Pixel) skaliert.  \n",
        "- Das Bild wird in einen Tensor umgewandelt, das heißt, es wird in eine numerische Matrix konvertiert, die vom Modell verarbeitet werden kann.  \n",
        "- Die Pixelwerte werden normalisiert, sodass sie in einem bestimmten Wertebereich liegen (z.B. zwischen -1 und 1). Diese Normalisierung entspricht genau der, die auch während des Trainings angewandt wurde, um Konsistenz sicherzustellen.\n",
        "\n",
        "Anschließend wird dem Tensor eine zusätzliche Dimension hinzugefügt, um die Batch-Größe darzustellen – auch wenn nur ein einzelnes Bild klassifiziert wird, erwartet das Modell eine Batch-Struktur.\n",
        "\n",
        "Das Modell wird in den Evaluierungsmodus versetzt, damit keine Trainings-spezifischen Operationen (wie Dropout) aktiv sind. Innerhalb eines Kontextes, der die Berechnung von Gradienten deaktiviert (für Effizienz und Speicherersparnis), wird das Bild durch das Modell geführt und eine Vorhersage erzeugt.\n",
        "\n",
        "Die Vorhersage besteht aus Wahrscheinlichkeiten für jede mögliche Klasse. Die Klasse mit der höchsten Wahrscheinlichkeit wird als Ergebnis der Klassifikation ausgewählt.\n",
        "\n",
        "Abschließend gibt die Funktion den Namen der vorhergesagten Klasse zurück, sodass der Benutzer direkt erkennen kann, zu welcher Tierklasse das Bild gehört.\n",
        "\n",
        "Diese Vorgehensweise ermöglicht es, das trainierte Modell praktisch einzusetzen, um einzelne Bilder schnell und zuverlässig zu klassifizieren.\n"
      ],
      "metadata": {
        "id": "uEL6gqlLZCMT"
      },
      "id": "uEL6gqlLZCMT"
    },
    {
      "cell_type": "code",
      "source": [
        "image_path = os.path.join(path2, 'animals/val/dog/dog117.jpg')\n",
        "image = Image.open(image_path).convert(\"RGB\")\n",
        "result = classify_image(image, model, classes, device)\n",
        "print(\"Predicted class:\", result)\n"
      ],
      "metadata": {
        "colab": {
          "base_uri": "https://localhost:8080/"
        },
        "id": "wZqRkx_OrTrG",
        "outputId": "43edc86f-1b23-422c-99c0-9c1269f9f3f2"
      },
      "id": "wZqRkx_OrTrG",
      "execution_count": 9,
      "outputs": [
        {
          "output_type": "stream",
          "name": "stdout",
          "text": [
            "Predicted class: dog\n"
          ]
        }
      ]
    },
    {
      "cell_type": "markdown",
      "source": [
        "# Erklärung der Beispielanwendung zur Bildklassifikation\n",
        "\n",
        "Um die zuvor definierte Klassifikationsfunktion zu testen, wird ein konkretes Beispielbild verwendet.  \n",
        "\n",
        "Zunächst wird der Pfad zu einem Bild festgelegt, das klassifiziert werden soll. In diesem Fall handelt es sich um ein Bild aus dem Validierungsdatensatz, das einen Hund zeigt.\n",
        "\n",
        "Das Bild wird mit der Bibliothek PIL (Python Imaging Library) geöffnet und in den RGB-Farbmodus konvertiert. Dies stellt sicher, dass das Bild drei Farbkanäle besitzt, wie es das Modell erwartet.\n",
        "\n",
        "Anschließend wird die Klassifikationsfunktion aufgerufen und das geladene Bild zusammen mit dem trainierten Modell, den Klassennamen und dem verwendeten Gerät (CPU, GPU oder MPS) übergeben.\n",
        "\n",
        "Die Funktion gibt die vorhergesagte Klasse zurück, die dann in der Konsole ausgegeben wird.\n",
        "\n",
        "Diese Vorgehensweise demonstriert, wie das trainierte Modell praktisch angewendet werden kann, um einzelne Bilder zu klassifizieren. Durch das Ändern des Bildpfads kann diese Methode flexibel auf beliebige Bilder angewendet werden.\n",
        "\n",
        "Dies ist ein wichtiger Schritt, um die praktische Tauglichkeit des Modells zu überprüfen und es in realen Anwendungen einzusetzen.\n"
      ],
      "metadata": {
        "id": "BTDJY05xZX3w"
      },
      "id": "BTDJY05xZX3w"
    }
  ],
  "metadata": {
    "kernelspec": {
      "display_name": "Python 3",
      "name": "python3"
    },
    "language_info": {
      "codemirror_mode": {
        "name": "ipython",
        "version": 3
      },
      "file_extension": ".py",
      "mimetype": "text/x-python",
      "name": "python",
      "nbconvert_exporter": "python",
      "pygments_lexer": "ipython3",
      "version": "3.9.21"
    },
    "colab": {
      "provenance": [],
      "gpuType": "T4"
    },
    "accelerator": "GPU"
  },
  "nbformat": 4,
  "nbformat_minor": 5
}