{
 "cells": [
  {
   "cell_type": "markdown",
   "id": "d417abd4",
   "metadata": {
    "id": "d417abd4"
   },
   "source": [
    "## Imports"
   ]
  },
  {
   "cell_type": "code",
   "execution_count": 2,
   "id": "095ade79",
   "metadata": {
    "id": "095ade79"
   },
   "outputs": [],
   "source": [
    "import os\n",
    "import torch\n",
    "import torchvision\n",
    "import numpy as np\n",
    "import matplotlib.pyplot as plt\n",
    "from torchvision import transforms, datasets\n",
    "from torch.utils.data import DataLoader\n",
    "import torch.nn as nn\n",
    "import torch.nn.functional as F\n",
    "import torch.optim as optim\n",
    "from tqdm import tqdm"
   ]
  },
  {
   "cell_type": "markdown",
   "id": "LrWcJJ_aP7nF",
   "metadata": {
    "id": "LrWcJJ_aP7nF"
   },
   "source": [
    "# Datensätze\n",
    "**Es kann zwischen folgenden Datensätzen gewählt werden:**\n",
    "\n",
    "## 1. Animal Faces Dataset von Husaa Anwar\n",
    "Dieser Datensatz enthält Bilder von Katzen, Hunden und Wildtieren. Er ist aufgeteilt in Trainings- und Validierungsdaten.\n",
    "\n",
    "## 2. Animal Dataset von Anton Benedetti\n",
    "Auch dieses Datenet ist in Trainings- und Validierungsdaten unterteilt, behinhaltet diesmal aber Hunde, Katzen, Elefanten, Pferden und Löwen.\n",
    "\n",
    "---\n"
   ]
  },
  {
   "cell_type": "markdown",
   "id": "492cd10b",
   "metadata": {
    "id": "492cd10b"
   },
   "source": [
    "## Daten Import and Vorbereitung"
   ]
  },
  {
   "cell_type": "markdown",
   "id": "4mWbvqA-SwZV",
   "metadata": {
    "id": "4mWbvqA-SwZV"
   },
   "source": [
    "Im folgenden Code werden die Datensätze heruntergeladen und importiert. Bevor diese für unser CNN bereit sind müssen wir allerdings noch ein paar Anpassungen vornehmen.\n",
    "\n",
    "1. Laden der Bilder aus Ordnerstruktur.\n",
    "  - Jeder Unterornder wird als eigene Klasse interpretiert\n",
    "\n",
    "2. Die Bilder werden auf 128 x 128 Pixel herunterskaliert.\n",
    "\n",
    "3. Konvertierung von **PIL.image** zu **torch.tensor**\n",
    "  -PIL.image sind Bildobjekte aus der Python Libary und stellen Bilder in ein für Menschen lesbares Format dar. Das ist für uns allerdings unbrauchbar, da unser Netz nur mit numerischen Werten arbeiten kann. Deswegen wandeln wir diese in **torch.Tensor** um. Das ist ein Pytorch Datentyp, der auf GPU-basiertes Training optimiert ist.\n",
    "\n",
    "4. Normalisieren der RGB-Kanäle mit Mittelwert 0.5 und Standardabweichung 0.5\n",
    "\n",
    "4. Datenloader erstellt\n",
    "  - 32 Bilder pro Batch\n",
    "  - mit zufälliger Mischung\n",
    "\n",
    "\n",
    "\n",
    "\n"
   ]
  },
  {
   "cell_type": "code",
   "execution_count": null,
   "id": "d4f681d9",
   "metadata": {
    "colab": {
     "base_uri": "https://localhost:8080/"
    },
    "id": "d4f681d9",
    "outputId": "69c5f144-ba94-4592-865c-5f43899a6a05"
   },
   "outputs": [
    {
     "name": "stdout",
     "output_type": "stream",
     "text": [
      "Downloading from https://www.kaggle.com/api/v1/datasets/download/andrewmvd/animal-faces?dataset_version_number=1...\n"
     ]
    },
    {
     "name": "stderr",
     "output_type": "stream",
     "text": [
      "100%|██████████| 696M/696M [00:36<00:00, 19.8MB/s]"
     ]
    },
    {
     "name": "stdout",
     "output_type": "stream",
     "text": [
      "Extracting files...\n"
     ]
    },
    {
     "name": "stderr",
     "output_type": "stream",
     "text": [
      "\n"
     ]
    },
    {
     "name": "stdout",
     "output_type": "stream",
     "text": [
      "Downloading from https://www.kaggle.com/api/v1/datasets/download/antobenedetti/animals?dataset_version_number=5...\n"
     ]
    },
    {
     "name": "stderr",
     "output_type": "stream",
     "text": [
      "100%|██████████| 882M/882M [00:44<00:00, 20.6MB/s]"
     ]
    },
    {
     "name": "stdout",
     "output_type": "stream",
     "text": [
      "Extracting files...\n"
     ]
    },
    {
     "name": "stderr",
     "output_type": "stream",
     "text": [
      "\n"
     ]
    },
    {
     "name": "stdout",
     "output_type": "stream",
     "text": [
      "Path to dataset files: /root/.cache/kagglehub/datasets/andrewmvd/animal-faces/versions/1\n",
      "Path to dataset 2 files: /root/.cache/kagglehub/datasets/antobenedetti/animals/versions/5\n",
      "Classes: ['cat', 'dog', 'elephant', 'horse', 'lion']\n"
     ]
    }
   ],
   "source": [
    "import kagglehub\n",
    "\n",
    "# Download latest version\n",
    "# path = kagglehub.dataset_download(\"andrewmvd/animal-faces\")\n",
    "path2 = kagglehub.dataset_download(\"antobenedetti/animals\")\n",
    "\n",
    "print(\"Path to dataset files:\", path)\n",
    "print(\"Path to dataset 2 files:\", path2)\n",
    "\n",
    "transform = transforms.Compose([\n",
    "    transforms.Resize((128, 128)),\n",
    "    transforms.ToTensor(),\n",
    "    transforms.Normalize([0.5]*3, [0.5]*3)\n",
    "])\n",
    "\n",
    "#train_dataset = datasets.ImageFolder(os.path.join(path, 'afhq/train'), transform=transform)\n",
    "#val_dataset = datasets.ImageFolder(os.path.join(path, 'afhq/val'), transform=transform)\n",
    "\n",
    "train_dataset = datasets.ImageFolder(os.path.join(path2, 'animals/train'), transform=transform)\n",
    "val_dataset = datasets.ImageFolder(os.path.join(path2, 'animals/val'), transform=transform)\n",
    "\n",
    "train_loader = DataLoader(train_dataset, batch_size=32, shuffle=True)\n",
    "val_loader = DataLoader(val_dataset, batch_size=32)\n",
    "\n",
    "classes = train_dataset.classes\n",
    "print(f\"Classes: {classes}\")"
   ]
  },
  {
   "cell_type": "markdown",
   "id": "b51bc492",
   "metadata": {
    "id": "b51bc492"
   },
   "source": [
    "## Modellarchitektur: Convolutional Neural Network (**CNN**)"
   ]
  },
  {
   "cell_type": "markdown",
   "id": "3JT01FvlW7i6",
   "metadata": {
    "id": "3JT01FvlW7i6"
   },
   "source": [
    "### Aufbau des Netzwerks:\n",
    "Für die Klassifizeirung von Tierarten wurd ein Convolutional Neural Network gewählt. Diese sind besonders gut für Bildverarbeitung geeignet, da sie in der Lage sind Bildstrukturen effizient zu erfassen und Merkmalsabstraktion über Faltungsprozesse ermöglicht. Diese Faltungsprozesse sind mathematische Operationen bei denen ein kleinerer Filter über das Eingabebild geschoben werden und dann an jeder Position eine gewichtete Summe der überlappenden Pixel zu berechnen. Das Ergebnis daraus ist dann ein Merkmalbild, das bestimmte Muster sichtbar macht.\n",
    "Anfangs sind die Filter zufällig initialisiert, passen sich aber währen dem Training über \"Backpropagation\" an.\n",
    "\n",
    "---\n",
    "\n",
    "Unsere Klasse AnimalCNN erbt von torch.nn.Module und besteht aus zwei Hauptkomponenten:\n",
    "\n",
    "#### 1. Convolutional Layers (Merkmalextraktion)\n",
    "\n",
    "Hier werden zunehmend komplexere Bildmerkmale extrahiert, z.B. Kanten, Formen oder Objektteil.\n",
    "\n",
    "Faltung:\n",
    "- Kernalgröße 3x3\n",
    "-Padding 1\n",
    "\n",
    "Aktivierungsfunktion:\n",
    "- ReLU (Rectified LinearUnit) unterstützt nicht-lineare Entscheidungsgrenzen\n",
    "\n",
    "Pooling:\n",
    "- 2x2 <- zur reduktion räumlicher Dimensionen bei gleichzeitiger Erhaltung wesentlicher Merkmale\n",
    "\n",
    "\n",
    "#### 2. Fully Connected Layers (Klassifikation)\n",
    "\n",
    "Bilden den letzen Teil des CNN und übernehmen die Klassifikation auf Basis der extrahierten Merkmale. Jeder Neuron dieser Schicht ist mit allen Neuronen der vorherigen Schicht verbunden, wodurch eine gewichtete Kombination aller Merkmalsinformationen entsteht. Damit kann das Netzt entscheiden zu welcher Klasse ein Bild gehört.\n",
    "\n",
    "Flatten:\n",
    "- um in einen Vektor zu überführen\n",
    "\n",
    "Linear(...):\n",
    "- verbundene Schichten klassifizieren das extrahierte Merkmalsmuster.\n",
    "\n",
    "\n",
    "\n",
    "#### Vorwärtsdurchläufe\n",
    "Wendet Convolutional und Fully Connected Layers an\n",
    "\n",
    "\n",
    "\n",
    "\n"
   ]
  },
  {
   "cell_type": "code",
   "execution_count": 4,
   "id": "504a3d16",
   "metadata": {
    "id": "504a3d16"
   },
   "outputs": [],
   "source": [
    "class AnimalCNN(nn.Module):\n",
    "    def __init__(self, num_classes):\n",
    "        super(AnimalCNN, self).__init__()\n",
    "        self.conv_layers = nn.Sequential(\n",
    "            nn.Conv2d(3, 16, kernel_size=3, padding=1),\n",
    "            nn.ReLU(),\n",
    "            nn.MaxPool2d(2),\n",
    "\n",
    "            nn.Conv2d(16, 32, kernel_size=3, padding=1),\n",
    "            nn.ReLU(),\n",
    "            nn.MaxPool2d(2),\n",
    "\n",
    "            nn.Conv2d(32, 64, kernel_size=3, padding=1),\n",
    "            nn.ReLU(),\n",
    "            nn.MaxPool2d(2)\n",
    "        )\n",
    "        self.fc_layers = nn.Sequential(\n",
    "            nn.Flatten(),\n",
    "            nn.Linear(64 * 8 * 8 * 4, 128),\n",
    "            nn.ReLU(),\n",
    "            nn.Linear(128, num_classes)\n",
    "        )\n",
    "\n",
    "    def forward(self, x):\n",
    "        x = self.conv_layers(x)\n",
    "        x = self.fc_layers(x)\n",
    "        return x"
   ]
  },
  {
   "cell_type": "markdown",
   "id": "a5260675",
   "metadata": {
    "id": "a5260675"
   },
   "source": [
    "## Training"
   ]
  },
  {
   "cell_type": "markdown",
   "id": "2yJZsrp7f0Vx",
   "metadata": {
    "id": "2yJZsrp7f0Vx"
   },
   "source": [
    "Zuerst wird hier überprüft, welche Geräte zum Training zur Verfügung stehen und überprüft, ob sie CUDA fähig sind. CUDA fähige GPUs sind optimal, da diese sehr gut viele prozesse parrallel berechnen könne as perfekt für das Training eines Neuronalen Netz ist.\n",
    "\n",
    "Wurde ein passendes Gerät gefunden, so wird jetzt das Modell auf dieses verschoben.\n",
    "\n",
    "#### Verlustfunktion\n",
    "Es wird eine Verlustfunktion hinzugefügt, die die Differenz zwischen vorhergesagter Klassenverteilung und tatsächlichen Label errechnet.\n",
    "\n",
    "#### Optimierer\n",
    "Außerdem wird ein Optimierer hinzugefügt, der mit dem Gradientenabstieg arbeitet und eine Lernrate übergeben bekommt. Dieser wird benötigt, um das Netz je nach Verlust dem entsprechend anzupassen.\n"
   ]
  },
  {
   "cell_type": "code",
   "execution_count": 1,
   "id": "fa0e778d",
   "metadata": {
    "colab": {
     "base_uri": "https://localhost:8080/",
     "height": 211
    },
    "id": "fa0e778d",
    "outputId": "cefd6d3b-50b1-4bbb-f1c4-7f77dae7c66b"
   },
   "outputs": [
    {
     "ename": "NameError",
     "evalue": "name 'torch' is not defined",
     "output_type": "error",
     "traceback": [
      "\u001b[0;31m---------------------------------------------------------------------------\u001b[0m",
      "\u001b[0;31mNameError\u001b[0m                                 Traceback (most recent call last)",
      "\u001b[0;32m<ipython-input-1-1ab6e0d35309>\u001b[0m in \u001b[0;36m<cell line: 0>\u001b[0;34m()\u001b[0m\n\u001b[0;32m----> 1\u001b[0;31m \u001b[0mdevice2\u001b[0m \u001b[0;34m=\u001b[0m \u001b[0mtorch\u001b[0m\u001b[0;34m.\u001b[0m\u001b[0mdevice\u001b[0m\u001b[0;34m(\u001b[0m\u001b[0;34m\"cuda\"\u001b[0m \u001b[0;32mif\u001b[0m \u001b[0mtorch\u001b[0m\u001b[0;34m.\u001b[0m\u001b[0mcuda\u001b[0m\u001b[0;34m.\u001b[0m\u001b[0mis_available\u001b[0m\u001b[0;34m(\u001b[0m\u001b[0;34m)\u001b[0m \u001b[0;32melse\u001b[0m \u001b[0;34m\"cpu\"\u001b[0m\u001b[0;34m)\u001b[0m\u001b[0;34m\u001b[0m\u001b[0;34m\u001b[0m\u001b[0m\n\u001b[0m\u001b[1;32m      2\u001b[0m \u001b[0mdevice\u001b[0m \u001b[0;34m=\u001b[0m \u001b[0mtorch\u001b[0m\u001b[0;34m.\u001b[0m\u001b[0mdevice\u001b[0m\u001b[0;34m(\u001b[0m\u001b[0;34m\"mps\"\u001b[0m \u001b[0;32mif\u001b[0m \u001b[0mtorch\u001b[0m\u001b[0;34m.\u001b[0m\u001b[0mbackends\u001b[0m\u001b[0;34m.\u001b[0m\u001b[0mmps\u001b[0m\u001b[0;34m.\u001b[0m\u001b[0mis_available\u001b[0m\u001b[0;34m(\u001b[0m\u001b[0;34m)\u001b[0m \u001b[0;32melse\u001b[0m \u001b[0mdevice2\u001b[0m\u001b[0;34m)\u001b[0m\u001b[0;34m\u001b[0m\u001b[0;34m\u001b[0m\u001b[0m\n\u001b[1;32m      3\u001b[0m \u001b[0mmodel\u001b[0m \u001b[0;34m=\u001b[0m \u001b[0mAnimalCNN\u001b[0m\u001b[0;34m(\u001b[0m\u001b[0mnum_classes\u001b[0m\u001b[0;34m=\u001b[0m\u001b[0mlen\u001b[0m\u001b[0;34m(\u001b[0m\u001b[0mclasses\u001b[0m\u001b[0;34m)\u001b[0m\u001b[0;34m)\u001b[0m\u001b[0;34m.\u001b[0m\u001b[0mto\u001b[0m\u001b[0;34m(\u001b[0m\u001b[0mdevice\u001b[0m\u001b[0;34m)\u001b[0m\u001b[0;34m\u001b[0m\u001b[0;34m\u001b[0m\u001b[0m\n\u001b[1;32m      4\u001b[0m \u001b[0;34m\u001b[0m\u001b[0m\n\u001b[1;32m      5\u001b[0m \u001b[0mprint\u001b[0m\u001b[0;34m(\u001b[0m\u001b[0;34m\"device:\"\u001b[0m\u001b[0;34m,\u001b[0m \u001b[0mdevice\u001b[0m\u001b[0;34m)\u001b[0m\u001b[0;34m\u001b[0m\u001b[0;34m\u001b[0m\u001b[0m\n",
      "\u001b[0;31mNameError\u001b[0m: name 'torch' is not defined"
     ]
    }
   ],
   "source": [
    "device2 = torch.device(\"cuda\" if torch.cuda.is_available() else \"cpu\")\n",
    "device = torch.device(\"mps\" if torch.backends.mps.is_available() else device2)\n",
    "model = AnimalCNN(num_classes=len(classes)).to(device)\n",
    "\n",
    "print(\"device:\", device)\n",
    "\n",
    "criterion = nn.CrossEntropyLoss()\n",
    "optimizer = optim.Adam(model.parameters(), lr=0.001)"
   ]
  },
  {
   "cell_type": "markdown",
   "id": "E7wwHaZriOcr",
   "metadata": {
    "id": "E7wwHaZriOcr"
   },
   "source": [
    "## Trainingsscheife\n",
    "\n",
    "Der Trainingsprozess läuft über mehrere Epochen mit Batches trainiert, wobei jede Epoche einmal durch den gesamten Trainingsdatensatz iteriert, wodurch die Generalisierungsfähigkeit des Modells. Durch Backpropagation und dem Optimierer verbessert das Netzt seine parameter. Der Verlust wird pro Epoche dokumentiert um den Lernfortschritt einsehen zu können (mit live Anzeige).\n",
    "\n"
   ]
  },
  {
   "cell_type": "code",
   "execution_count": null,
   "id": "b0c3478e",
   "metadata": {
    "id": "b0c3478e"
   },
   "outputs": [],
   "source": [
    "epochs = 10\n",
    "train_losses = []\n",
    "\n",
    "for epoch in range(epochs):\n",
    "    model.train()\n",
    "    running_loss = 0.0\n",
    "    progress_bar = tqdm(train_loader, desc=f\"Epoch {epoch+1}/{epochs}\")\n",
    "\n",
    "    for images, labels in progress_bar:\n",
    "        images, labels = images.to(device), labels.to(device)\n",
    "\n",
    "        optimizer.zero_grad()\n",
    "        outputs = model(images)\n",
    "        loss = criterion(outputs, labels)\n",
    "        loss.backward()\n",
    "        optimizer.step()\n",
    "\n",
    "        running_loss += loss.item()\n",
    "        progress_bar.set_postfix(loss=loss.item())\n",
    "\n",
    "    avg_loss = running_loss / len(train_loader)\n",
    "    train_losses.append(avg_loss)\n",
    "    print(f\"Epoch {epoch+1} Average Loss: {avg_loss:.4f}\")\n"
   ]
  },
  {
   "cell_type": "markdown",
   "id": "58a1e5f1",
   "metadata": {
    "id": "58a1e5f1"
   },
   "source": [
    "### Training Loss"
   ]
  },
  {
   "cell_type": "code",
   "execution_count": 7,
   "id": "c4c508bf",
   "metadata": {
    "colab": {
     "base_uri": "https://localhost:8080/",
     "height": 487
    },
    "id": "c4c508bf",
    "outputId": "75c96ac5-18d1-418c-a9ae-098fa7938048"
   },
   "outputs": [
    {
     "data": {
      "image/png": "[encoded data removed]",
      "text/plain": [
       "<Figure size 800x500 with 1 Axes>"
      ]
     },
     "metadata": {},
     "output_type": "display_data"
    }
   ],
   "source": [
    "plt.figure(figsize=(8, 5))\n",
    "plt.plot(train_losses, marker='o', label='Training Loss')\n",
    "plt.title(\"Training Loss over Epochs\")\n",
    "plt.xlabel(\"Epoch\")\n",
    "plt.ylabel(\"Loss\")\n",
    "plt.legend()\n",
    "plt.grid(True)\n",
    "plt.show()"
   ]
  },
  {
   "cell_type": "markdown",
   "id": "ff4fe50c",
   "metadata": {},
   "source": [
    "## 1 Visualisierung des Trainingsverlusts\n",
    "\n",
    "Der folgende Code erstellt ein Diagramm, das den Verlauf des Trainingsverlusts (`Loss`) über alle Epochen hinweg zeigt. Jeder Punkt steht dabei für den durchschnittlichen Verlust pro Epoche.\n",
    "```python\n",
    "# Neues Plot-Fenster mit einer definierten Größe\n",
    "plt.figure(figsize=(8, 5))\n",
    "\n",
    "# Wir plotten die gespeicherten Trainingsverluste.\n",
    "# Die Marker \"o\" heben die einzelnen Punkte in der Linie hervor.\n",
    "plt.plot(train_losses, marker='o', label='Training Loss')\n",
    "\n",
    "# Titel für das Diagramm\n",
    "plt.title(\"Training Loss over Epochs\")\n",
    "\n",
    "# Beschriftung der X- und Y-Achsen\n",
    "plt.xlabel(\"Epoch\")\n",
    "plt.ylabel(\"Loss\")\n",
    "\n",
    "# Anzeige der Legende (in diesem Fall: \"Training Loss\")\n",
    "plt.legend()\n",
    "\n",
    "# Ein Gitter erleichtert das Ablesen des Plots\n",
    "plt.grid(True)\n",
    "\n",
    "# Zeige das Diagramm an\n",
    "plt.show()\n",
    "```\n",
    "# Erklärung des Diagrammverlaufs\n",
    "\n",
    "Das gezeigte Diagramm stellt den Trainingsverlust dar, der während des Trainings berechnet wird.\n",
    "\n",
    "Zu Beginn des Trainings ist der Loss-Wert in der Regel sehr hoch, da das Modell noch keine sinnvollen Vorhersagen treffen kann.  \n",
    "In den ersten Epochen sinkt der Verlust schnell, weil das Modell grundlegende Muster wie Kanten oder Farben in den Bildern lernt.  \n",
    "In höheren Epochen verlangsamt sich der Abfall des Loss-Werts immer mehr, da das Netz die grundlegenden Muster bereits erlernt hat und nur durch höhere Komplexität weitere Verbesserungen erreicht werden können.\n",
    "\n",
    "Gegen Ende erreicht der Loss einen stabilen Wert, was auf eine Konvergenz des Trainings hinweist.  \n",
    "Diese typische Kurve (starker Abfall am Anfang, langsamer Abfall später, Plateau am Ende) ist ein Zeichen dafür, dass das Modell effektiv lernt und sich an die Trainingsdaten anpasst."
   ]
  },
  {
   "cell_type": "markdown",
   "id": "80a23c2e",
   "metadata": {
    "id": "80a23c2e"
   },
   "source": [
    "### Evaluation"
   ]
  },
  {
   "cell_type": "code",
   "execution_count": 8,
   "id": "b12f901a",
   "metadata": {
    "colab": {
     "base_uri": "https://localhost:8080/"
    },
    "id": "b12f901a",
    "outputId": "76d72593-9719-4414-f386-fe847e63b382"
   },
   "outputs": [
    {
     "name": "stdout",
     "output_type": "stream",
     "text": [
      "Test Accuracy: 84.17%\n"
     ]
    }
   ],
   "source": [
    "model.eval()\n",
    "correct = 0\n",
    "total = 0\n",
    "with torch.no_grad():\n",
    "    for inputs, labels in val_loader:\n",
    "        inputs, labels = inputs.to(device), labels.to(device)\n",
    "        outputs = model(inputs)\n",
    "        _, preds = torch.max(outputs, 1)\n",
    "        total += labels.size(0)\n",
    "        correct += (preds == labels).sum().item()\n",
    "\n",
    "print(f\"Test Accuracy: {100 * correct / total:.2f}%\")"
   ]
  },
  {
   "cell_type": "markdown",
   "id": "e2fe4bdb",
   "metadata": {},
   "source": [
    "# Erklärung der Evaluierung\n",
    "\n",
    "Bei der Modell-Evaluierung wird die Leistung des trainierten Modells auf neuen, ungesehenen Daten überprüft.  \n",
    "Dazu wird der sogenannte Validierungsdatensatz genutzt, der während des Trainings nicht betrachtet wurde. Dies stellt sicher, dass das Modell nicht nur auf die Trainingsdaten passt, sondern auch auf andere Bilder gut funktioniert.\n",
    "\n",
    "Zunächst wird das Modell in den Evaluierungsmodus versetzt. In diesem Modus sind Schichten wie Dropout deaktiviert und Batch-Normalisierung verwendet gespeicherte Mittelwerte und Varianzen, statt sie neu aus den aktuellen Eingaben zu berechnen. Dadurch wird ein konsistentes Verhalten des Modells während der Auswertung sichergestellt.\n",
    "\n",
    "Im nächsten Schritt wird die Berechnung von Gradienten ausgeschaltet. Das spart Speicher und beschleunigt die Ausführung, da beim Testen keine Gewichtsaktualisierungen notwendig sind.\n",
    "\n",
    "Für jedes Bildpaar im Validierungsdatensatz werden dann folgende Schritte durchgeführt:  \n",
    "- Die Eingabebilder und die zugehörigen Labels werden auf das passende Gerät geladen (CPU, GPU oder MPS).  \n",
    "- Das Modell berechnet Vorhersagen (Wahrscheinlichkeiten für alle Klassen).  \n",
    "- Die Klasse mit der höchsten Wahrscheinlichkeit wird als Vorhersage gewählt.  \n",
    "- Diese Vorhersage wird mit dem tatsächlichen Label verglichen. Wenn die Vorhersage korrekt ist, wird ein Zähler für richtige Ergebnisse erhöht.\n",
    "\n",
    "Am Ende der Schleife wird die Gesamtzahl der korrekten Vorhersagen durch die Gesamtzahl der Bilder geteilt und mit 100 multipliziert. Das Ergebnis ist die Genauigkeit in Prozent.  \n",
    "\n",
    "Diese Genauigkeit ist eine wichtige Kennzahl:  \n",
    " - Sie zeigt, wie gut das Modell verallgemeinert und nicht nur die Trainingsdaten „auswendig gelernt“ hat.  \n",
    " - Eine hohe Genauigkeit deutet darauf hin, dass das Modell die zugrunde liegenden Muster der Bilder erkannt hat und erfolgreich neue Bilder klassifizieren kann."
   ]
  },
  {
   "cell_type": "markdown",
   "id": "K3m22Cl9qoV4",
   "metadata": {
    "id": "K3m22Cl9qoV4"
   },
   "source": [
    "## Klassifizierung eines Bildes"
   ]
  },
  {
   "cell_type": "code",
   "execution_count": 9,
   "id": "x8nhUdF-quRq",
   "metadata": {
    "id": "x8nhUdF-quRq"
   },
   "outputs": [],
   "source": [
    "from PIL import Image\n",
    "import torchvision.transforms as transforms\n",
    "\n",
    "def classify_image(image, model, class_names, device):\n",
    "    # Transform must match training preprocessing\n",
    "    transform = transforms.Compose([\n",
    "        transforms.Resize((128, 128)),\n",
    "        transforms.ToTensor(),\n",
    "        transforms.Normalize([0.5]*3, [0.5]*3)\n",
    "    ])\n",
    "\n",
    "    # Load and preprocess image\n",
    "\n",
    "    image = transform(image).unsqueeze(0).to(device)  # add batch dimension\n",
    "\n",
    "    model.eval()\n",
    "    with torch.no_grad():\n",
    "        output = model(image)\n",
    "        _, predicted = torch.max(output, 1)\n",
    "\n",
    "    return class_names[predicted.item()]"
   ]
  },
  {
   "cell_type": "markdown",
   "id": "ed3c293b",
   "metadata": {},
   "source": [
    "# Erklärung der Einzelbildklassifikation (Inference)\n",
    "\n",
    "Nachdem das Modell trainiert und evaluiert wurde, kann es verwendet werden, um neue, einzelne Bilder zu klassifizieren.  \n",
    "Dafür wird eine spezielle Funktion definiert, die ein Bild als Eingabe nimmt und eine Vorhersage zurückgibt.\n",
    "\n",
    "Zuerst muss das Eingabebild vorverarbeitet werden, um es in das Format zu bringen, das das Modell erwartet:  \n",
    "- Die Bildgröße wird auf die während des Trainings genutzte Größe (z.B. 128x128 Pixel) skaliert.  \n",
    "- Das Bild wird in einen Tensor umgewandelt, das heißt, es wird in eine numerische Matrix konvertiert, die vom Modell verarbeitet werden kann.  \n",
    "- Die Pixelwerte werden normalisiert, sodass sie in einem bestimmten Wertebereich liegen (z.B. zwischen -1 und 1). Diese Normalisierung entspricht genau der, die auch während des Trainings angewandt wurde, um Konsistenz sicherzustellen.\n",
    "\n",
    "Anschließend wird dem Tensor eine zusätzliche Dimension hinzugefügt, um die Batch-Größe darzustellen – auch wenn nur ein einzelnes Bild klassifiziert wird, erwartet das Modell eine Batch-Struktur.\n",
    "\n",
    "Das Modell wird in den Evaluierungsmodus versetzt, damit keine Trainings-spezifischen Operationen (wie Dropout) aktiv sind. Innerhalb eines Kontextes, der die Berechnung von Gradienten deaktiviert (für Effizienz und Speicherersparnis), wird das Bild durch das Modell geführt und eine Vorhersage erzeugt.\n",
    "\n",
    "Die Vorhersage besteht aus Wahrscheinlichkeiten für jede mögliche Klasse. Die Klasse mit der höchsten Wahrscheinlichkeit wird als Ergebnis der Klassifikation ausgewählt.\n",
    "\n",
    "Abschließend gibt die Funktion den Namen der vorhergesagten Klasse zurück, sodass der Benutzer direkt erkennen kann, zu welcher Tierklasse das Bild gehört.\n",
    "\n",
    "Diese Vorgehensweise ermöglicht es, das trainierte Modell praktisch einzusetzen, um einzelne Bilder schnell und zuverlässig zu klassifizieren.\n"
   ]
  },
  {
   "cell_type": "code",
   "execution_count": 34,
   "id": "wZqRkx_OrTrG",
   "metadata": {
    "colab": {
     "base_uri": "https://localhost:8080/"
    },
    "id": "wZqRkx_OrTrG",
    "outputId": "4a091654-7d8f-49a3-b5a2-c61fe4ce048b"
   },
   "outputs": [
    {
     "name": "stdout",
     "output_type": "stream",
     "text": [
      "Predicted class: dog\n"
     ]
    }
   ],
   "source": [
    "image_path = os.path.join(path2, 'animals/val/dog/dog117.jpg')\n",
    "image = Image.open(image_path).convert(\"RGB\")\n",
    "result = classify_image(image, model, classes, device)\n",
    "print(\"Predicted class:\", result)\n"
   ]
  },
  {
   "cell_type": "markdown",
   "id": "7f31588f",
   "metadata": {},
   "source": [
    "# Erklärung der Beispielanwendung zur Bildklassifikation\n",
    "\n",
    "Um die zuvor definierte Klassifikationsfunktion zu testen, wird ein konkretes Beispielbild verwendet.  \n",
    "\n",
    "Zunächst wird der Pfad zu einem Bild festgelegt, das klassifiziert werden soll. In diesem Fall handelt es sich um ein Bild aus dem Validierungsdatensatz, das einen Hund zeigt.\n",
    "\n",
    "Das Bild wird mit der Bibliothek PIL (Python Imaging Library) geöffnet und in den RGB-Farbmodus konvertiert. Dies stellt sicher, dass das Bild drei Farbkanäle besitzt, wie es das Modell erwartet.\n",
    "\n",
    "Anschließend wird die Klassifikationsfunktion aufgerufen und das geladene Bild zusammen mit dem trainierten Modell, den Klassennamen und dem verwendeten Gerät (CPU, GPU oder MPS) übergeben.\n",
    "\n",
    "Die Funktion gibt die vorhergesagte Klasse zurück, die dann in der Konsole ausgegeben wird.\n",
    "\n",
    "Diese Vorgehensweise demonstriert, wie das trainierte Modell praktisch angewendet werden kann, um einzelne Bilder zu klassifizieren. Durch das Ändern des Bildpfads kann diese Methode flexibel auf beliebige Bilder angewendet werden.\n",
    "\n",
    "Dies ist ein wichtiger Schritt, um die praktische Tauglichkeit des Modells zu überprüfen und es in realen Anwendungen einzusetzen.\n"
   ]
  }
 ],
 "metadata": {
  "accelerator": "GPU",
  "colab": {
   "gpuType": "T4",
   "provenance": []
  },
  "kernelspec": {
   "display_name": "Python 3",
   "name": "python3"
  },
  "language_info": {
   "codemirror_mode": {
    "name": "ipython",
    "version": 3
   },
   "file_extension": ".py",
   "mimetype": "text/x-python",
   "name": "python",
   "nbconvert_exporter": "python",
   "pygments_lexer": "ipython3",
   "version": "3.9.21"
  }
 },
 "nbformat": 4,
 "nbformat_minor": 5
}
